{
 "cells": [
  {
   "cell_type": "markdown",
   "id": "9f9914a7-f762-470f-934d-562b23fe2b64",
   "metadata": {
    "jp-MarkdownHeadingCollapsed": true
   },
   "source": [
    "# **Homework Graded Notebook 3 - Zomato Exercise**\n",
    "\n",
    "**Name:** Alec Johann C. Chua\n",
    "\n",
    "**Course Code & Section:** DATA100 - S17\n",
    "\n",
    "**Student ID:** 12234788\n",
    "\n",
    "**College:** RVRCOB\n",
    "\n",
    "**Date Accomplished:** September 28, 2024"
   ]
  },
  {
   "cell_type": "markdown",
   "id": "174e376c",
   "metadata": {
    "id": "174e376c"
   },
   "source": [
    "# Zomato Exercise"
   ]
  },
  {
   "cell_type": "markdown",
   "id": "2d84fdf3",
   "metadata": {
    "id": "2d84fdf3"
   },
   "source": [
    "Zomato is a restaurant aggregator website. The platform provides information, menus and user-reviews of restaurants as well as food delivery options from partner restaurants in select cities. You have been provided 3 datasets:\n",
    "\n",
    "- zomato.csv contains restaurant information like average_cost_for_two, cuisines\n",
    "- location.csv contains location of the restaurants like address, city, locality & etc\n",
    "- ratings.csv contains aggregate rating for each restaurant\n",
    "\n",
    "The different files are connected using the `id` columns which can be found in the different files. The id column is a unique identifier to represent a restaurant. You can use this to **merge** the different files."
   ]
  },
  {
   "cell_type": "code",
   "execution_count": 4,
   "id": "5337de5f",
   "metadata": {
    "id": "5337de5f"
   },
   "outputs": [],
   "source": [
    "import pandas as pd\n",
    "import numpy as np"
   ]
  },
  {
   "cell_type": "markdown",
   "id": "77605fbc",
   "metadata": {
    "id": "77605fbc"
   },
   "source": [
    "1. Merge the zomato, location & ratings file into a signle dataframe and store it to the `merged_df` variable **(3pts)**"
   ]
  },
  {
   "cell_type": "code",
   "execution_count": 15,
   "id": "3b354225-0d41-4ba2-9d44-3b85aa058280",
   "metadata": {},
   "outputs": [],
   "source": [
    "#retrieving file from directory\n",
    "zomato = pd.read_csv(\"zomato.csv\")\n",
    "location = pd.read_csv(\"location.csv\")\n",
    "ratings = pd.read_csv(\"ratings.csv\")"
   ]
  },
  {
   "cell_type": "code",
   "execution_count": 16,
   "id": "ddbd0bb1",
   "metadata": {
    "id": "ddbd0bb1"
   },
   "outputs": [],
   "source": [
    "#merging into single dataframe\n",
    "merged_df = pd.merge(zomato, location, on=\"id\")\n",
    "merged_df = pd.merge(merged_df, ratings, on=\"id\")"
   ]
  },
  {
   "cell_type": "code",
   "execution_count": 17,
   "id": "b2a86a44",
   "metadata": {
    "id": "b2a86a44"
   },
   "outputs": [],
   "source": [
    "#datashape sets\n",
    "assert (6830, 35) == merged_df.shape\n",
    "\n",
    "#column names\n",
    "cols = ['id', 'address', 'city', 'city_id', 'country_id', 'latitude',\n",
    "       'locality', 'locality_verbose', 'longitude', 'zipcode',\n",
    "       'aggregate_rating', 'rating_color', 'rating_text', 'votes',\n",
    "       'average_cost_for_two', 'book_url', 'cuisines', 'currency', 'deeplink',\n",
    "       'events_url', 'featured_image', 'has_online_delivery',\n",
    "       'has_table_booking', 'include_bogo_offers', 'is_book_form_web_view',\n",
    "       'is_delivering_now', 'is_table_reservation_supported',\n",
    "       'is_zomato_book_res', 'menu_url', 'mezzo_provider', 'name',\n",
    "       'photos_url', 'price_range', 'thumb', 'url']\n",
    "\n",
    "#checking if columns match\n",
    "assert sorted(merged_df.columns) == sorted(cols)"
   ]
  },
  {
   "cell_type": "markdown",
   "id": "02223abe",
   "metadata": {
    "id": "02223abe"
   },
   "source": [
    "2. Create a function that returns the average aggregate rating for each city. Expected returned value is a Series datatype which contains name of city as index and average aggregate rating as value. **(2pts)**"
   ]
  },
  {
   "cell_type": "code",
   "execution_count": 21,
   "id": "bd7d8f34",
   "metadata": {
    "id": "bd7d8f34"
   },
   "outputs": [],
   "source": [
    "def exercise_2(merged_df):\n",
    "    # Grouping by city and calculating the mean of aggregate_rating\n",
    "    mean_ratings = merged_df.groupby(\"city\")[\"aggregate_rating\"].mean()\n",
    "    \n",
    "    # Returning the result\n",
    "    return mean_ratings"
   ]
  },
  {
   "cell_type": "code",
   "execution_count": 31,
   "id": "10e5b4c1",
   "metadata": {
    "id": "10e5b4c1"
   },
   "outputs": [
    {
     "name": "stdout",
     "output_type": "stream",
     "text": [
      "city\n",
      "Caloocan City       1.953509\n",
      "Las Piñas City      2.855738\n",
      "Makati City         3.250512\n",
      "Malabon City        1.558333\n",
      "Mandaluyong City    2.951919\n",
      "Manila              2.842652\n",
      "Marikina City       2.672512\n",
      "Muntinlupa City     2.962682\n",
      "Parañaque City      3.130100\n",
      "Pasay City          3.302075\n",
      "Pasig City          2.916086\n",
      "Pateros City        1.740000\n",
      "Quezon City         2.887946\n",
      "San Juan City       3.098462\n",
      "Tagaytay City       2.959259\n",
      "Taguig City         3.234105\n",
      "Valenzuela City     1.890741\n",
      "Name: aggregate_rating, dtype: float64\n"
     ]
    }
   ],
   "source": [
    "#storing the result in res\n",
    "res_series = exercise_2(merged_df)\n",
    "\n",
    "#checking if no errors\n",
    "assert True == np.isclose(3.302075, res_series[res_series.index == 'Pasay City'],\n",
    "                          rtol=1e-05, atol=1e-08, equal_nan=False)[0]\n",
    "assert True == np.isclose(1.890741, res_series[res_series.index == 'Valenzuela City'],\n",
    "                          rtol=1e-05, atol=1e-08, equal_nan=False)[0]\n",
    "assert True == np.isclose(1.558333, res_series[res_series.index == 'Malabon City'],\n",
    "                          rtol=1e-05, atol=1e-08, equal_nan=False)[0]\n",
    "\n",
    "#display\n",
    "print(res_series)"
   ]
  },
  {
   "cell_type": "markdown",
   "id": "5db591ac",
   "metadata": {
    "id": "5db591ac"
   },
   "source": [
    "3. Using the apply function of pandas convert the rating_text to a numeric equivalent. You are to introduce a new column in merged_df called `rating_numeric` which is based on the value from rating_text: **(3pts)**\n",
    "\n",
    "Excellent = 5 <br>\n",
    "Very Good = 4 <br>\n",
    "Good = 3 <br>\n",
    "Average = 2 <br>\n",
    "Poor = 1 <br>\n",
    "Not rated = 0 <br>"
   ]
  },
  {
   "cell_type": "code",
   "execution_count": 36,
   "id": "41293771",
   "metadata": {
    "id": "41293771"
   },
   "outputs": [],
   "source": [
    "#assigning ratings' numerical values\n",
    "rating_legend = {\n",
    "    \"Excellent\": 5,\n",
    "    \"Very Good\": 4,\n",
    "    \"Good\": 3,\n",
    "    \"Average\": 2,\n",
    "    \"Poor\": 1,\n",
    "    \"Not rated\": 0 }\n",
    "\n",
    "#assigning numerics to the texts\n",
    "merged_df[\"rating_numeric\"] = merged_df[\"rating_text\"].map(rating_legend)"
   ]
  },
  {
   "cell_type": "code",
   "execution_count": 37,
   "id": "c62df922",
   "metadata": {
    "id": "c62df922"
   },
   "outputs": [],
   "source": [
    "assert 868 == merged_df[merged_df.rating_numeric == 0].shape[0]\n",
    "assert True == ('rating_numeric' in merged_df.columns)"
   ]
  },
  {
   "cell_type": "markdown",
   "id": "97ec4197",
   "metadata": {
    "id": "97ec4197"
   },
   "source": [
    "4. Create a function which filters the merged dataframe to only contain rows coming in from a specific city. Expected returned value is a dataframe **(2pts)**"
   ]
  },
  {
   "cell_type": "code",
   "execution_count": 40,
   "id": "9773b18e",
   "metadata": {
    "id": "9773b18e"
   },
   "outputs": [],
   "source": [
    "def exercise_4(merged_df, city):\n",
    "    return merged_df[merged_df[\"city\"] == city]"
   ]
  },
  {
   "cell_type": "code",
   "execution_count": 41,
   "id": "1ca29a81",
   "metadata": {
    "id": "1ca29a81"
   },
   "outputs": [],
   "source": [
    "\n",
    "assert 'Makati City' == exercise_4(merged_df, 'Makati City').city.unique()[0]\n",
    "assert (976, 36) == exercise_4(merged_df, 'Makati City').shape\n",
    "\n",
    "assert 'Mandaluyong City' == exercise_4(merged_df, 'Mandaluyong City').city.unique()[0]\n",
    "assert (443, 36) == exercise_4(merged_df, 'Mandaluyong City').shape\n",
    "\n",
    "assert (0, 36) == exercise_4(merged_df, 'Quezon  City').shape"
   ]
  },
  {
   "cell_type": "markdown",
   "id": "ca7bf3c1",
   "metadata": {
    "id": "ca7bf3c1"
   },
   "source": [
    "5. Create a function to filter the dataframe to only contain certain columns passed in the function. Expected returned value is a dataframe **(1pt)**"
   ]
  },
  {
   "cell_type": "code",
   "execution_count": 42,
   "id": "59787577",
   "metadata": {
    "id": "59787577"
   },
   "outputs": [],
   "source": [
    "def exercise_5(merged_df, cols_to_filter):\n",
    "    #only specific columns\n",
    "    return merged_df[cols_to_filter]"
   ]
  },
  {
   "cell_type": "code",
   "execution_count": 43,
   "id": "da27c054",
   "metadata": {
    "id": "da27c054"
   },
   "outputs": [],
   "source": [
    "cols = ['name', 'cuisines', 'city', 'aggregate_rating']\n",
    "assert sorted(cols) == sorted(exercise_5(merged_df, cols).columns)\n",
    "assert (6830, 4) == exercise_5(merged_df, cols).shape\n",
    "\n",
    "cols = ['average_cost_for_two', 'book_url', 'cuisines', 'currency', 'deeplink',\n",
    "       'events_url', 'featured_image', 'has_online_delivery',\n",
    "       'has_table_booking', 'include_bogo_offers', 'is_book_form_web_view']\n",
    "assert sorted(cols) == sorted(exercise_5(merged_df, cols).columns)\n",
    "assert (6830, 11) == exercise_5(merged_df, cols).shape\n"
   ]
  },
  {
   "cell_type": "markdown",
   "id": "d69c7e2e",
   "metadata": {
    "id": "d69c7e2e"
   },
   "source": [
    "6.  What is the most common restaurant name in the dataset? **(2pts)** Write down your answer and show code used to come up with the answer."
   ]
  },
  {
   "cell_type": "markdown",
   "id": "34ec1bdd-bfe9-4ce5-bbab-734e2f64cde6",
   "metadata": {},
   "source": [
    "**Starbucks** is the most common name in the dataset."
   ]
  },
  {
   "cell_type": "code",
   "execution_count": 51,
   "id": "cf9cdab1",
   "metadata": {
    "id": "cf9cdab1"
   },
   "outputs": [
    {
     "name": "stdout",
     "output_type": "stream",
     "text": [
      "The most common restaurant name in the list is: Starbucks\n"
     ]
    }
   ],
   "source": [
    "#most common restaurant name\n",
    "mode_name = merged_df[\"name\"].mode()[0]\n",
    "\n",
    "#outputting the result\n",
    "print(f\"The most common restaurant name in the list is: {mode_name}\")"
   ]
  },
  {
   "cell_type": "markdown",
   "id": "7675b4b1",
   "metadata": {
    "id": "7675b4b1"
   },
   "source": [
    "7. Which restaurant has the most expensive average cost for two? **(2pts)** Write down your answer and show code used to come up with the answer."
   ]
  },
  {
   "cell_type": "markdown",
   "id": "a69643fd-8084-4021-a87b-3cd6ed54bde6",
   "metadata": {},
   "source": [
    "**The Tasting Room** has the most expensive average cost for two."
   ]
  },
  {
   "cell_type": "code",
   "execution_count": 63,
   "id": "b447b440",
   "metadata": {
    "id": "b447b440"
   },
   "outputs": [
    {
     "name": "stdout",
     "output_type": "stream",
     "text": [
      "The restaurant with the most expensive average cost for two is: The Tasting Room\n"
     ]
    }
   ],
   "source": [
    "#finding most expensive for two\n",
    "most_expensive_for_two = merged_df.loc[merged_df[\"average_cost_for_two\"].idxmax()][\"name\"]\n",
    "\n",
    "#output the result\n",
    "print(f\"The restaurant with the most expensive average cost for two is: {most_expensive_for_two}\")"
   ]
  },
  {
   "cell_type": "markdown",
   "id": "af873fb7",
   "metadata": {
    "id": "af873fb7"
   },
   "source": [
    "8. How many restaurants do not have a zipcode? **(1pt)** Write down your answer and show code used to come up with the answer."
   ]
  },
  {
   "cell_type": "markdown",
   "id": "f5da7337-864a-4f72-b240-992101913672",
   "metadata": {},
   "source": [
    "**6713** restaurants do not have a zipcode."
   ]
  },
  {
   "cell_type": "code",
   "execution_count": 64,
   "id": "43f1234a",
   "metadata": {
    "id": "43f1234a"
   },
   "outputs": [
    {
     "name": "stdout",
     "output_type": "stream",
     "text": [
      "6713 restaurants in this list have no zipcodes attached\n"
     ]
    }
   ],
   "source": [
    "#counting which ones have no zipcodes\n",
    "nullzip_count = merged_df[\"zipcode\"].isnull().sum()\n",
    "\n",
    "#output the result\n",
    "print(f\"{nullzip_count} restaurants in this list have no zipcodes attached\")"
   ]
  },
  {
   "cell_type": "markdown",
   "id": "9347ac03",
   "metadata": {
    "id": "9347ac03"
   },
   "source": [
    "9. How many restaurants in the dataset allow online delivery? **(1pt)** Write down your answer and show code used to come up with the answer."
   ]
  },
  {
   "cell_type": "markdown",
   "id": "4feffe6c-8533-411e-8c60-17fc609ad6d5",
   "metadata": {},
   "source": [
    "**0** restaurants in the dataset allow online delivery."
   ]
  },
  {
   "cell_type": "code",
   "execution_count": 65,
   "id": "24b62212",
   "metadata": {
    "id": "24b62212"
   },
   "outputs": [
    {
     "name": "stdout",
     "output_type": "stream",
     "text": [
      "0 restaurants in this dataset allow for online deliveries\n"
     ]
    }
   ],
   "source": [
    "#count\n",
    "online_delivery_allowed = merged_df[merged_df[\"has_online_delivery\"] == 1].shape[0]\n",
    "\n",
    "#output\n",
    "print(f\"{online_delivery_allowed} restaurants in this dataset allow for online deliveries\")"
   ]
  },
  {
   "cell_type": "markdown",
   "id": "7f2c7aa3",
   "metadata": {
    "id": "7f2c7aa3"
   },
   "source": [
    "10. Which locatlity has more expensive food? Poblacion or Salcedo Village? **(3pts)** Write down your answer and show code used to come up with the answer.\n"
   ]
  },
  {
   "cell_type": "markdown",
   "id": "bb8897a5-082b-4806-8311-07153e096043",
   "metadata": {},
   "source": [
    "On average, **Salcedo Village** has more expensive food than Poblacion."
   ]
  },
  {
   "cell_type": "code",
   "execution_count": 70,
   "id": "8fb7ce16",
   "metadata": {
    "id": "8fb7ce16"
   },
   "outputs": [
    {
     "name": "stdout",
     "output_type": "stream",
     "text": [
      "On average, Salcedo Village has more expensive food at an average price of P989.1025641025641, to Poblacion at an average price of P898.2142857142857.\n"
     ]
    }
   ],
   "source": [
    "#retrieve price data for both\n",
    "mean_cost_poblacion = merged_df[merged_df[\"locality\"] == \"Poblacion\"][\"average_cost_for_two\"].mean()\n",
    "mean_cost_salcedo_village = merged_df[merged_df[\"locality\"] == \"Salcedo Village\"][\"average_cost_for_two\"].mean()\n",
    "\n",
    "#compare and display\n",
    "if mean_cost_poblacion > mean_cost_salcedo_village:\n",
    "    print(f\"On average, Poblacion has more expensive food at an average price of P{mean_cost_poblacion}, to Salcedo Village at an average price of P{mean_cost_salcedo_village}.\")\n",
    "else:\n",
    "    print(f\"On average, Salcedo Village has more expensive food at an average price of P{mean_cost_salcedo_village}, to Poblacion at an average price of P{mean_cost_poblacion}.\")"
   ]
  }
 ],
 "metadata": {
  "colab": {
   "provenance": []
  },
  "kernelspec": {
   "display_name": "Python 3 (ipykernel)",
   "language": "python",
   "name": "python3"
  },
  "language_info": {
   "codemirror_mode": {
    "name": "ipython",
    "version": 3
   },
   "file_extension": ".py",
   "mimetype": "text/x-python",
   "name": "python",
   "nbconvert_exporter": "python",
   "pygments_lexer": "ipython3",
   "version": "3.12.2"
  }
 },
 "nbformat": 4,
 "nbformat_minor": 5
}
